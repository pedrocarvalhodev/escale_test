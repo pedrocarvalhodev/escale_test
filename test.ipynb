{
 "cells": [
  {
   "cell_type": "code",
   "execution_count": null,
   "metadata": {},
   "outputs": [],
   "source": [
    "import configs as config\n",
    "import pandas as pd\n",
    "from sklearn.linear_model import LinearRegression\n",
    "from sqlalchemy import create_engine"
   ]
  },
  {
   "cell_type": "code",
   "execution_count": null,
   "metadata": {},
   "outputs": [],
   "source": [
    "import numpy as np\n",
    "from sklearn.datasets import make_classification\n",
    "from sklearn.ensemble import ExtraTreesClassifier"
   ]
  },
  {
   "cell_type": "code",
   "execution_count": null,
   "metadata": {},
   "outputs": [],
   "source": [
    "URI = f\"{config.database}://{config.user}:{config.password}@{config.host}:{config.port}/{config.database}\""
   ]
  },
  {
   "cell_type": "code",
   "execution_count": null,
   "metadata": {},
   "outputs": [],
   "source": [
    "engine = create_engine(URI)"
   ]
  },
  {
   "cell_type": "markdown",
   "metadata": {},
   "source": [
    "Uma das formas para acessar o banco é utilizando o DBeaver.\n",
    "Ele permite três tipos de modelagem, e você pode escolher\n",
    "apenas uma delas, a qual se sinta mais confortável. As três\n",
    "possíveis variáveis respostas são:\n",
    "\n",
    "- Previsão do preço da estadia (feature ‘price’)\n",
    "\n",
    "- Classificação do room type (feature ‘room_type’)\n",
    "\n",
    "- Segmentação dos principais assuntos das reviews (feature review_scores_rating’)\n",
    "\n",
    "Faça uma análise exploratória para avaliar a consistência dos\n",
    "dados e identificar possíveis variáveis que impactam sua variável\n",
    "resposta.\n",
    "Para a realização deste teste você pode utilizar o software de sua\n",
    "preferência (Python ou R), só pedimos que compartilhe conosco o\n",
    "código fonte (utilizando um repositório git). Além disso, inclua um\n",
    "arquivo README.md onde você deve cobrir as respostas para o\n",
    "ponto abaixo:\n",
    "O DESAFIO\n",
    "\n",
    "a. Como foi a definição da sua estratégia de modelagem?"
   ]
  },
  {
   "cell_type": "code",
   "execution_count": null,
   "metadata": {},
   "outputs": [],
   "source": [
    "#listing = pd.read_sql_query(\"select * from listing limit 10000\", engine)\n",
    "#print(listing.shape)\n",
    "#listing.to_csv(\"./listing.csv\")\n",
    "listing = pd.read_csv(\"./listing.csv\")"
   ]
  },
  {
   "cell_type": "code",
   "execution_count": null,
   "metadata": {},
   "outputs": [],
   "source": [
    "#reviews = pd.read_sql_query(\"select * from reviews limit 10000\", engine)\n",
    "#print(reviews.shape)\n",
    "#reviews.to_csv(\"./reviews.csv\")\n",
    "reviews = pd.read_csv(\"./reviews.csv\")"
   ]
  },
  {
   "cell_type": "code",
   "execution_count": null,
   "metadata": {},
   "outputs": [],
   "source": [
    "#calendar = pd.read_sql_query(\"select * from calendar limit 10000\", engine)\n",
    "#print(calendar.shape)\n",
    "#calendar.to_csv(\"./calendar.csv\")\n",
    "calendar = pd.read_csv(\"./calendar.csv\")"
   ]
  },
  {
   "cell_type": "markdown",
   "metadata": {},
   "source": [
    "Faça uma análise exploratória para avaliar a consistência dos\n",
    "dados e identificar possíveis variáveis que impactam sua variável\n",
    "resposta.\n",
    "Para a realização deste teste você pode utilizar o software de sua\n",
    "preferência (Python ou R), só pedimos que compartilhe conosco o\n",
    "código fonte (utilizando um repositório git). Além disso, inclua um\n",
    "arquivo README.md onde você deve cobrir as respostas para o\n",
    "ponto abaixo:\n",
    "O DESAFIO\n",
    "\n",
    "a. Como foi a definição da sua estratégia de modelagem?"
   ]
  },
  {
   "cell_type": "code",
   "execution_count": null,
   "metadata": {},
   "outputs": [],
   "source": []
  },
  {
   "cell_type": "code",
   "execution_count": null,
   "metadata": {},
   "outputs": [],
   "source": [
    "#  Clean data\n",
    "listing[\"clean_price\"] = listing.price.apply(lambda x : float(x.replace(\"$\",\"\").replace(\",\",\"\")))\n",
    "listing_var = listing.loc[:,['clean_price','number_of_reviews', 'room_type']].copy()\n",
    "room_type_dummies = pd.get_dummies(listing.room_type, drop_first=True)\n",
    "listing_var = listing_var.merge(room_type_dummies, left_index=True, right_index=True, how=\"inner\")\n",
    "listing_var = listing_var.drop(\"room_type\", axis=1)"
   ]
  },
  {
   "cell_type": "code",
   "execution_count": null,
   "metadata": {},
   "outputs": [],
   "source": []
  },
  {
   "cell_type": "code",
   "execution_count": null,
   "metadata": {},
   "outputs": [],
   "source": [
    "# Set explained and explanatory variables\n",
    "y = listing_var.clean_price\n",
    "X = listing_var.loc[:,['number_of_reviews', 'Hotel room', 'Private room','Shared room']]"
   ]
  },
  {
   "cell_type": "code",
   "execution_count": null,
   "metadata": {},
   "outputs": [],
   "source": []
  },
  {
   "cell_type": "code",
   "execution_count": null,
   "metadata": {},
   "outputs": [],
   "source": [
    "# Compute the feature importances\n",
    "forest = ExtraTreesClassifier(n_estimators=250, random_state=0)\n",
    "forest.fit(X, y)\n",
    "importances = forest.feature_importances_\n",
    "std = np.std([tree.feature_importances_ for tree in forest.estimators_],axis=0)\n",
    "indices = np.argsort(importances)[::-1]\n",
    "# Print the feature ranking\n",
    "print(\"Feature ranking:\")\n",
    "for f in range(X.shape[1]):\n",
    "    print(f\"{str(f + 1)} feature {X.columns[indices[f]]} {str(importances[indices[f]])}\")"
   ]
  },
  {
   "cell_type": "markdown",
   "metadata": {},
   "source": [
    "A quantidade de reviews é o atributo com maior capacidade preditiva entre as seleccionadas."
   ]
  },
  {
   "cell_type": "code",
   "execution_count": null,
   "metadata": {},
   "outputs": [],
   "source": [
    "reg = LinearRegression().fit(X, y)"
   ]
  },
  {
   "cell_type": "code",
   "execution_count": null,
   "metadata": {},
   "outputs": [],
   "source": [
    "# Price prediction of a listing of a Private room com 1 review\n",
    "reg.predict([[1, 0, 1, 0]])"
   ]
  },
  {
   "cell_type": "code",
   "execution_count": null,
   "metadata": {},
   "outputs": [],
   "source": []
  },
  {
   "cell_type": "markdown",
   "metadata": {},
   "source": [
    "# SQL - 1"
   ]
  },
  {
   "cell_type": "markdown",
   "metadata": {},
   "source": [
    "EXERCÍCIO 1\n",
    "Na tabela calendar é possível encontrar a disponibilidade\n",
    "(available, onde 't' indica que está disponível e 'f' indica\n",
    "indisponibilidade) dos anúncios de acordo com o dia, o valor e o\n",
    "número de noites. Encontre o número de anúncios únicos, do\n",
    "tipo apartamento (Apartment), disponíveis por semana no mês de\n",
    "outubro de 2019."
   ]
  },
  {
   "cell_type": "code",
   "execution_count": null,
   "metadata": {},
   "outputs": [],
   "source": [
    "query1 = \"\"\"\n",
    "select\n",
    "  date_part('week', c.date::date) AS weekly,\n",
    "  count( distinct l.id ) as unique_listing_id\n",
    "from listing l\n",
    "inner join calendar c \n",
    "  on l.id = c.listing_id \n",
    "where room_type = 'Entire home/apt'\n",
    "  and c.available = 't'\n",
    "  and c.date between '2019-10-01' and '2019-10-30'\n",
    "group by date_part('week', c.date::date)\n",
    "limit 10000\n",
    "\"\"\""
   ]
  },
  {
   "cell_type": "code",
   "execution_count": null,
   "metadata": {},
   "outputs": [],
   "source": [
    "s1 = pd.read_sql_query(query1, engine)"
   ]
  },
  {
   "cell_type": "code",
   "execution_count": null,
   "metadata": {},
   "outputs": [],
   "source": [
    "s1"
   ]
  },
  {
   "cell_type": "code",
   "execution_count": null,
   "metadata": {},
   "outputs": [],
   "source": []
  },
  {
   "cell_type": "markdown",
   "metadata": {},
   "source": [
    "# SQL 2"
   ]
  },
  {
   "cell_type": "markdown",
   "metadata": {},
   "source": [
    "EXERCÍCIO 2\n",
    "Na tabela reviews é possível encontrar as avaliações deixadas\n",
    "pelos usuários de acordo com a data, id do usuário e comentário.\n",
    "Para os anúncios disponíveis e não disponíveis por semana no\n",
    "mês de outubro de 2019, encontre o percentual deles com mais\n",
    "de 10 usuários (reviewers) únicos, menos de 10 usuários\n",
    "(reviewers) únicos ou nenhum usuário (reviewer) (para reviews\n",
    "feitos até 01/10/2019)."
   ]
  },
  {
   "cell_type": "code",
   "execution_count": null,
   "metadata": {},
   "outputs": [],
   "source": [
    "reviews.head(2)"
   ]
  },
  {
   "cell_type": "code",
   "execution_count": null,
   "metadata": {},
   "outputs": [],
   "source": []
  },
  {
   "cell_type": "code",
   "execution_count": null,
   "metadata": {},
   "outputs": [],
   "source": [
    "query2 = \"\"\"\n",
    "select\n",
    "  n.weekly,\n",
    "  n.available,\n",
    "  n.cohort_review,\n",
    "  count(*) as count_obs\n",
    "from (\n",
    "select\n",
    "  t.weekly,\n",
    "  t.available,\n",
    "  t.listing_id,\n",
    "  t.unique_reviews,\n",
    "  case \n",
    "    when unique_reviews >= 10 then 'over 10'\n",
    "    when (unique_reviews between 1 and 9) then 'between 1 and 9'\n",
    "    else 'is 0'\n",
    "    end as cohort_review\n",
    "from (\n",
    "select\n",
    "  date_part('week', c.date::date) AS weekly,\n",
    "  c.available,\n",
    "  r.listing_id,\n",
    "  count (distinct r.reviewer_id) as unique_reviews\n",
    "from  reviews r\n",
    "left join calendar c \n",
    "  on r.listing_id = c.listing_id\n",
    "where c.date between '2019-10-01' and '2019-10-30'\n",
    "group by date_part('week', c.date::date), c.available, r.listing_id\n",
    ") t\n",
    ") n\n",
    "group by n.weekly, n.available, n.cohort_review\n",
    ";\n",
    "\"\"\""
   ]
  },
  {
   "cell_type": "code",
   "execution_count": null,
   "metadata": {},
   "outputs": [],
   "source": [
    "s2 = pd.read_sql_query(query2, engine)"
   ]
  },
  {
   "cell_type": "code",
   "execution_count": null,
   "metadata": {},
   "outputs": [],
   "source": [
    "s2"
   ]
  },
  {
   "cell_type": "code",
   "execution_count": null,
   "metadata": {},
   "outputs": [],
   "source": []
  }
 ],
 "metadata": {
  "kernelspec": {
   "display_name": "Python 3",
   "language": "python",
   "name": "python3"
  },
  "language_info": {
   "codemirror_mode": {
    "name": "ipython",
    "version": 3
   },
   "file_extension": ".py",
   "mimetype": "text/x-python",
   "name": "python",
   "nbconvert_exporter": "python",
   "pygments_lexer": "ipython3",
   "version": "3.7.1"
  }
 },
 "nbformat": 4,
 "nbformat_minor": 2
}
